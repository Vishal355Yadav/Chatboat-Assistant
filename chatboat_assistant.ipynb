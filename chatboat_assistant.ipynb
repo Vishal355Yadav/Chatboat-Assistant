{
  "nbformat": 4,
  "nbformat_minor": 0,
  "metadata": {
    "colab": {
      "provenance": []
    },
    "kernelspec": {
      "name": "python3",
      "display_name": "Python 3"
    },
    "language_info": {
      "name": "python"
    }
  },
  "cells": [
    {
      "cell_type": "markdown",
      "source": [
        "#Python Code implementation for the Chat boat Assistant"
      ],
      "metadata": {
        "id": "d-Q6IAN3A9os"
      }
    },
    {
      "cell_type": "markdown",
      "source": [
        "Data for training Model is Available here.  https://drive.google.com/file/d/1apck6tkspu-Ru0Q1iNtKXaY56VQJ-jTc/view?usp=sharing"
      ],
      "metadata": {
        "id": "d0wUF-tDBYhM"
      }
    },
    {
      "cell_type": "code",
      "execution_count": null,
      "metadata": {
        "id": "VCjRxpRGDs-p",
        "colab": {
          "base_uri": "https://localhost:8080/"
        },
        "outputId": "1d364021-ccdf-4329-9a79-d82322476bd6"
      },
      "outputs": [
        {
          "output_type": "stream",
          "name": "stdout",
          "text": [
            "Looking in indexes: https://pypi.org/simple, https://us-python.pkg.dev/colab-wheels/public/simple/\n",
            "Requirement already satisfied: tflearn in /usr/local/lib/python3.8/dist-packages (0.5.0)\n",
            "Requirement already satisfied: Pillow in /usr/local/lib/python3.8/dist-packages (from tflearn) (7.1.2)\n",
            "Requirement already satisfied: six in /usr/local/lib/python3.8/dist-packages (from tflearn) (1.15.0)\n",
            "Requirement already satisfied: numpy in /usr/local/lib/python3.8/dist-packages (from tflearn) (1.21.6)\n",
            "Looking in indexes: https://pypi.org/simple, https://us-python.pkg.dev/colab-wheels/public/simple/\n",
            "Requirement already satisfied: tflearn in /usr/local/lib/python3.8/dist-packages (0.5.0)\n",
            "Requirement already satisfied: numpy in /usr/local/lib/python3.8/dist-packages (from tflearn) (1.21.6)\n",
            "Requirement already satisfied: Pillow in /usr/local/lib/python3.8/dist-packages (from tflearn) (7.1.2)\n",
            "Requirement already satisfied: six in /usr/local/lib/python3.8/dist-packages (from tflearn) (1.15.0)\n"
          ]
        }
      ],
      "source": [
        "pip install tflearn"
      ]
    },
    {
      "cell_type": "code",
      "source": [
        "import nltk\n",
        "from nltk.stem.lancaster import LancasterStemmer\n",
        "stemmer = LancasterStemmer()\n",
        "import numpy as np\n",
        "\n",
        "# things we need for Tensorflow\n",
        "import numpy\n",
        "import tflearn\n",
        "import tensorflow as tf\n",
        "import random"
      ],
      "metadata": {
        "colab": {
          "base_uri": "https://localhost:8080/"
        },
        "id": "Zjhvks7EElqj",
        "outputId": "02d4d7b5-8785-4975-e242-bf835f8e48d9"
      },
      "execution_count": null,
      "outputs": [
        {
          "output_type": "stream",
          "name": "stderr",
          "text": [
            "WARNING:tensorflow:From /usr/local/lib/python3.8/dist-packages/tensorflow/python/compat/v2_compat.py:107: disable_resource_variables (from tensorflow.python.ops.variable_scope) is deprecated and will be removed in a future version.\n",
            "Instructions for updating:\n",
            "non-resource variables are not supported in the long term\n"
          ]
        }
      ]
    },
    {
      "cell_type": "code",
      "source": [
        "from google.colab import drive\n",
        "drive.mount('/content/drive')"
      ],
      "metadata": {
        "colab": {
          "base_uri": "https://localhost:8080/"
        },
        "id": "Jp7nXz6gWbZJ",
        "outputId": "6d1f7941-1874-4b9d-8fa5-e97193ff4b12"
      },
      "execution_count": null,
      "outputs": [
        {
          "output_type": "stream",
          "name": "stdout",
          "text": [
            "Drive already mounted at /content/drive; to attempt to forcibly remount, call drive.mount(\"/content/drive\", force_remount=True).\n"
          ]
        }
      ]
    },
    {
      "cell_type": "code",
      "source": [
        "# import json\n",
        "# with open('/content/drive/MyDrive/Hloov assignment/intents.json') as json_data:\n",
        "#     intents = json.load(json_data)"
      ],
      "metadata": {
        "id": "n9dIgACDEyFv"
      },
      "execution_count": null,
      "outputs": []
    },
    {
      "cell_type": "code",
      "source": [
        "# import json\n",
        "# with open('/content/drive/MyDrive/Hloov assignment/intents.json') as file:\n",
        "#     data = json.load(file)\n",
        "# print(data)    \n"
      ],
      "metadata": {
        "colab": {
          "base_uri": "https://localhost:8080/"
        },
        "id": "gtBTjFIFXZcI",
        "outputId": "e930ada5-21f2-4c67-c5a5-38a279b9bec4"
      },
      "execution_count": null,
      "outputs": [
        {
          "output_type": "stream",
          "name": "stdout",
          "text": [
            "{'intents': [{'tag': 'greeting', 'patterns': ['Hi', 'How are you', 'Is anyone there?', 'Hello', 'Good day'], 'responses': ['Hello, thanks for visiting', 'Good to see you again', 'Hi there, how can I help?'], 'context_set': ''}, {'tag': 'goodbye', 'patterns': ['Bye', 'See you later', 'Goodbye'], 'responses': ['See you later, thanks for visiting', 'Have a nice day', 'Bye! Come back again soon.']}, {'tag': 'thanks', 'patterns': ['Thanks', 'Thank you', \"That's helpful\"], 'responses': ['Happy to help!', 'Any time!', 'My pleasure']}, {'tag': 'hours', 'patterns': ['What hours are you open?', 'What are your hours?', 'When are you open?'], 'responses': [\"We're open every day 9am-9pm\", 'Our hours are 9am-9pm every day']}, {'tag': 'payments', 'patterns': ['Do you take credit cards?', 'Do you accept Mastercard?', 'Are you cash only?'], 'responses': ['We accept VISA, Mastercard and AMEX', 'We accept most major credit cards']}, {'tag': 'opentoday', 'patterns': ['Are you open today?', 'When do you open today?', 'What are your hours today?'], 'responses': [\"We're open every day from 9am-9pm\", 'Our hours are 9am-9pm every day']}]}\n"
          ]
        }
      ]
    },
    {
      "cell_type": "code",
      "source": [
        "import json\n",
        "with open('/content/drive/MyDrive/python bootcamp project/intents.json') as file:\n",
        "    data = json.load(file)\n",
        "print(data) "
      ],
      "metadata": {
        "colab": {
          "base_uri": "https://localhost:8080/"
        },
        "id": "pReB7bb5gXJj",
        "outputId": "64e315f7-d1a7-40bb-ce43-ca1f2e984344"
      },
      "execution_count": null,
      "outputs": [
        {
          "output_type": "stream",
          "name": "stdout",
          "text": [
            "{'intents': [{'tag': 'Identity', 'patterns': ['Who are you?', 'what are you?', 'What is your name?', 'What could I call you?', 'What can I call you?', 'What do your friends call you?', 'Tell me your name?'], 'responses': ['I am Leaf, a Discord chatbot', 'You can call me Leaf', 'You may call me Leaf', 'Call me Leaf']}, {'tag': 'greeting', 'patterns': ['Hi there', 'Is anyone there?', 'Hey', 'Good day', 'Namaste', 'yo', 'hi', 'Hi', 'Hola', 'Hello', 'Hope you are doing well?', 'Whats up', 'wassup', 'wasup', 'Wazzup', 'How are you', 'sup', 'How you doing'], 'responses': ['Hello', 'Good to see you again', 'Hi there, how can I help?', 'Hi ', 'Hola', 'Hello, I am great, how are you? ', 'Hello, how are you? I am great thanks! ', 'Hello, I am good thank you, how are you? ', 'Hi, I am great, how are you? ', 'Hi, how are you? I am great thanks! ', 'Hi, I am good thank you, how are you? ', 'Hi, good thank you, how are you? ', 'All good..What about you?'], 'context': ['']}, {'tag': 'CurrentHumanQuery', 'patterns': ['What is my name?', 'What do you call me?', 'Who do you think I am?', 'What do you think I am?', 'Who are you talking to?', 'What name do you call me by?', 'Tell me my name'], 'responses': ['You are <HUMAN>! How can I help?', 'Your name is  <HUMAN>, how can I help you?', 'They call you <HUMAN>, what can I do for you?', 'Your name is <HUMAN>, how can I help you?', '<HUMAN>, what can I do for you?'], 'context': ['']}, {'tag': 'goodbye', 'patterns': ['Bye', 'See you later', 'Goodbye', 'Till next time', 'bye', 'Adios', 'See ya', 'Talk to you later', 'Ttyl', 'Thanks, bye', 'Thanks for the help, goodbye', 'Thank you, bye', 'Thank you, goodbye', 'Thanks goodbye', 'Thanks good bye'], 'responses': ['See you!', 'Have a nice day', 'Bye! Come back again soon.', 'See you later', 'Talk to you later take care', 'No problem, goodbye', 'Not a problem! Have a nice day', 'Bye take care', 'See you later', 'Talk to you later take care'], 'context': ['']}, {'tag': 'thanks', 'patterns': ['Thanks', 'Thank you', 'Thank you so much', \"That's helpful\", 'Awesome, thanks', 'Thanks for helping me', 'Ok thank you', 'Ok thanks', 'Oh thank you', 'Oh thanks'], 'responses': ['No problem!', 'Happy to help!', 'Any time!', 'My pleasure'], 'context': ['']}, {'tag': 'noanswer', 'patterns': [], 'responses': [\"Sorry, can't understand you\", 'Please give me more info', 'I dont think I understand', 'Not sure I understand'], 'context': ['']}, {'tag': 'UnderstandQuery', 'patterns': ['Do you understand what I am saying', 'Do you understand me', 'Do you know what I am saying', 'Do you get me', 'Comprendo', 'Know what I mean'], 'responses': [\"Well I wouldn't be a clever AI bot if I did not would I?\", 'I read you loud and clear!', 'I do in deed!'], 'context': ['']}, {'tag': 'Shutup', 'patterns': ['Be quiet', 'Stop talking', 'Enough talking', 'Please be quiet', 'Quiet', 'Shhh'], 'responses': ['I am sorry to disturb you', 'Fine, sorry to disturb you', 'OK, sorry to disturb you', \"I'll keep quiet for a while\"], 'context': ['']}, {'tag': 'options', 'patterns': ['How you could help me', 'What can you do', 'How can you help', 'What do you do', 'What are you good at', 'What is your purpose', 'How can you help me', 'What help you provide', 'How you can be helpful', 'What support is offered'], 'responses': ['I am a general purpose chatbot. I can chat with you. Try asking me for jokes or riddles!'], 'context': ['']}, {'tag': 'jokes', 'patterns': ['Joke', 'Make me laugh', 'Tell me a joke', 'Do you know any jokes', 'How about a joke', 'Give me a joke', 'I need cheering up'], 'responses': [\"A perfectionist walked into a bar...apparently, the bar wasn't set high enough\", 'I ate a clock yesterday, it was very time-consuming', \"Never criticize someone until you've walked a mile in their shoes. That way, when you criticize them, they won't be able to hear you from that far away. Plus, you'll have their shoes.\", \"The world tongue-twister champion just got arrested. I hear they're gonna give him a really tough sentence.\", \"I own the world's worst thesaurus. Not only is it awful, it's awful.\", 'What did the traffic light say to the car? \"Don\\'t look now, I\\'m changing.\"', 'What do you call a snowman with a suntan? A puddle.', 'How does a penguin build a house? Igloos it together', 'I went to see the doctor about my short-term memory problems – the first thing he did was make me pay in advance', 'As I get older and I remember all the people I’ve lost along the way, I think to myself, maybe a career as a tour guide wasn’t for me.', \"o what if I don't know what 'Armageddon' means? It's not the end of the world.\", \"I met a Dutch girl with inflatable shoes last week, phoned her up to arrange a date but unfortunately she'd popped her clogs.  \", \"So I said 'Do you want a game of Darts?' He said, 'OK then', I said nearest to bull starts'. He said, 'Baa', I said, 'Moo', he said, You're closest'.  \", \"The other day I sent my girlfriend a huge pile of snow. I rang her up; I said 'Did you get my drift?'  \", \"So I went down the local supermarket, I said, 'I want to make a complaint, this vinegar's got lumps in it', he said, 'Those are pickled onions'.  \", \"I saw this bloke chatting up a cheetah; I thought, 'He's trying to pull a fast one'.  \", \"So I said to this train driver 'I want to go to Paris'. He said 'Eurostar?' I said, 'I've been on telly but I'm no Dean Martin'.  \", \"I said to the Gym instructor 'Can you teach me to do the splits?' He said, 'How flexible are you?' I said, 'I can't make Tuesdays'.  \", \"But I'll tell you what I love doing more than anything: trying to pack myself in a small suitcase. I can hardly contain myself.  \", \"I went to the Chinese restaurant and this duck came up to me with a red rose and says 'Your eyes sparkle like diamonds'. I said, 'Waiter, I asked for a-ROMATIC duck'.  \", \"So this bloke says to me, 'Can I come in your house and talk about your carpets?' I thought, 'That's all I need, a Je-hoover's witness'.  \", \"I rang up British Telecom, I said, 'I want to report a nuisance caller', he said 'Not you again'.  \", 'I was having dinner with a world chess champion and there was a check tablecloth. It took him two hours to pass me the salt.  ', \"He said, 'You remind me of a pepper-pot', I said 'I'll take that as a condiment'.  \", \"I was in the supermarket and I saw this man and woman wrapped in a barcode. I said, 'Are you two an item?'  \", \"A lorry-load of tortoises crashed into a trainload of terrapins, I thought, 'That's a turtle disaster'.  \", \"Four fonts walk into a bar the barman says 'Oi - get out! We don't want your type in here'  \", \"A three-legged dog walks into a saloon in the Old West. He slides up to the bar and announces: 'I'm looking for the man who shot my paw.'  \", \"Two antennas meet on a roof, fall in love and get married. The ceremony wasn't much, but the reception was excellent.\", \"Two hydrogen atoms walk into a bar. One says, 'I've lost my electron.' The other says, 'Are you sure?' The first replies, 'Yes, I'm positive...'\", \"A jumper cable walks into a bar. The bartender says,  'I'll serve you but don't start anything.'\", \"A sandwich walks into a bar. The bartender  says, 'Sorry we don't serve food in here.'\", \"A man walks into a bar with a slab of asphalt under his arm and says: 'A beer please, and one for the road.'\", \"Two cannibals are eating a clown. One says to  the other: 'Does this taste funny to you?'\", \"'Doc, I can't stop singing 'The Green, Green Grass of Home.'' 'That sounds like Tom Jones Syndrome.' 'Is it common?' 'It's Not Unusual.'\", \"Two cows standing next to each other in a field. Daisy says to Dolly, 'I was artificially inseminated this morning.' 'I don't believe you', said Dolly. 'It's true, no bull!' exclaimed Daisy.\", 'An invisible man marries an invisible woman. The kids were nothing to look at either.', \"I went to buy some camouflage trousers the other day but I couldn't find any.\", \"I went to the butcher's the other day to bet him 50 bucks that he couldn't reach the meat off the top shelf. He said, 'No, the steaks are too high.'\", 'I went to a seafood disco last week and pulled a mussel.', \"A man goes into a bar and says, 'Can I have a bottle of less?' 'What's that?', asks the barman, 'Is it the name of a beer?' 'I don't know', replies the man, 'but my doctor says I have to drink it.'\", \"A man returns from an exotic holiday and is feeling very ill. He goes to see his doctor, and is immediately rushed to the hospital to undergo some tests. The man wakes up after the tests in a private room at the hospital, and the phone by his bed rings. 'This is your doctor. We have the results back from your tests and we have found you have an extremely nasty disease called M.A.D.S. It's a combination of Measles, AIDS, Diphtheria, and Shingles!'  'Oh my gosh', cried the man, 'What are you going to do, doctor?'  'Well we're going to put you on a diet of pizzas, pancakes, and pita bread.' replied the doctor.  'Will that cure me?' asked the man.  The doctor replied, 'Well no, but, it's the only food we can slide under the door.'\", \"A man strolls into a lingerie shop and asks the assistant: 'Do you have a see-through negligee, size 46-48-52?' The assistant looks bewildered. 'What the heck would you want to see through that for?'!\", 'Did you hear about the Buddhist who refused the offer of Novocain during his root canal work? He wanted to transcend dental medication.', \"Pete goes for a job on a building site as an odd-job man. The foreman asks him what he can do. 'I can do anything' says Pete. 'Can you make tea?' asks the foreman. 'Sure, yes', replies Pete. 'I can make a great cup of tea.' 'Can you drive a forklift?' asks the foreman, 'Good grief!' replies Pete. 'How big is the teapot?'\", \"Stevie Wonder got a cheese grater for his birthday. He said it was the most violent book he'd ever read.\", \"A man is stopped by an angry neighbour. 'I'd just left the house this morning to collect my newspaper when that evil Doberman of yours went for me!' 'I'm astounded', said the dog's owner. 'I've been feeding that fleabag for seven years and it's never got the paper for me.'\", \"A man visits his doctor: 'Doc, I think I'm losing it', he says',I'm forever dreaming I wrote Lord Of The Rings.' 'Hmm. One moment', replies the doctor, consulting his medical book. 'Ah yes, now I see... you've been Tolkien in your sleep.'\", \"A police officer on a motorcycle pulls alongside a man driving around the M25 in an open-topped sports car and flags him down. The policeman solemnly approaches the car. 'Sir, I'm sorry to tell you your wife fell out a mile back', he says. 'Oh, thank goodness', the man replies. 'I thought I was going deaf.'\", \"Two men walking their dogs pass each other in a graveyard. The first man says to the second, 'Morning.' 'No', says the second man. 'Just walking the dog.'\", \"A brain went into a bar and said, 'Can I have a pint of lager please, mate?' 'No way', said the barman. 'You're already out of your head.'\", \"A man walks into a surgery. 'Doctor!' he cries. 'I think I'm shrinking!' 'I'm sorry sir, there are no appointments at the moment', says the physician. 'You'll just have to be a little patient.'\", \"A grizzly bear walks into a pub and says, 'Can I have a pint of lager..............................................................................................................................and a packet of crisps please.' To which the barman replies, 'Why the big paws?'\", \"What do you call cheese that isn't yours?  Nacho cheese.\", \"A man is horribly run over by a mobile library. The van screeches to a halt, the man still screaming in agony with his limbs torn apart. The driver's door opens, a woman steps out, leans down and whispers, 'Ssshhhhh...'\", \"A woman goes into a US sporting goods store to buy a rifle. 'It's for my husband', she tells the clerk. 'Did he tell you what gauge to get?' asks the clerk. Are you kidding?' she says. 'He doesn't even know that I'm going to shoot him!'\", \"A couple are dining in a restaurant when the man suddenly slides under the table. A waitress, noticing that the woman is glancing nonchalantly around the room, wanders over to check that there's no funny business going on. 'Excuse me, madam', she smarms, 'but I think your husband has just slid under the table.' 'No he hasn't', the woman replies. 'As a matter of fact, he's just walked in.'\", \"An old man takes his two grandchildren to see the new Scooby-Doo film. When he returns home, his wife asks if he enjoyed himself. 'Well', he starts, 'if it wasn't for those pesky kids...!'\", 'The Olympic committee has just announced that Origami is to be introduced in the next Olympic Games. Unfortunately it will only be available on paper view.', \"Late one evening, a man is watching television when his phone rings. 'Hello?' he answers. 'Is that 77777?' sounds a desperate voice on other end of the phone. 'Er, yes it is', replies the man puzzled. 'Thank goodness!' cries the caller relieved. 'Can you ring 999 for me? I've got my finger stuck in the number seven.'\", \"A man strolls into his local grocer's and says, 'Three pounds of potatoes, please.' 'No, no, no', replies the owner, shaking his head, 'it's kilos nowadays, mate...' 'Oh', apologises the man, 'three pounds of kilos, please.'\", \"God is talking to one of his angels. He says, 'Boy, I just created a 24-hour period of alternating light and darkness on Earth.' 'What are you going to do now?' asks the angel. 'Call it a day', says God.\", \"Two tramps walk past a church and start to read the gravestones. The first tramp says, 'Good grief - this bloke was 182!' 'Oh yeah?' says the other.'What was his name?' 'Miles from London.'\", \"A bloke walks into work one day and says to a colleague, 'Do you like my new shirt - it's made out of the finest silk and got loads of cactuses over it.' 'Cacti', says the co-worker. 'Forget my tie', says the bloke. 'Look at my shirt!'\", \"What did the plumber say when he wanted to divorce his wife? Sorry, but it's over, Flo!\", \"Two crisps were walking down a road when a taxi pulled up alongside them and said 'Do you want a lift? One of the crisps replied, 'No thanks, we're Walkers!'\", \"Man: (to friend) I'm taking my wife on an African Safari. Friend: Wow! What would you do if a vicious lion attacked your wife? Man: Nothing. Friend: Nothing? You wouldn't do anything? Man: Too right. I'd let the stupid lion fend for himself!\", \"A wife was having a go at her husband. 'Look at Mr Barnes across the road', she moaned. 'Every morning when he goes to work, he kisses his wife goodbye. Why don't you do that?' 'Because I haven't been introduced to her yet', replied her old man.\", \"'Where are you going on holiday?' John asked Trevor. 'We're off to Thailand this year', Trevor replied. 'Oh; aren't you worried that the very hot weather might disagree with your wife?' asked John. 'It wouldn't dare', said Trevor.\", \"Two women were standing at a funeral. 'I blame myself for his death', said the wife. 'Why?' said her friend. 'Because I shot him', said the wife.\", \"A woman goes into a clothes shop, 'Can I try that dress on in the window please?' she asks. 'I'm sorry madam', replies the shop assistant, 'but you'll have to use the changing-rooms like everyone else.'\", \"Van Gogh goes into a pub and his mate asks him if he wants a drink. 'No thanks', said Vincent, 'I've got one ear.'\", \"A pony walks into a pub. The publican says, 'What's the matter with you?' 'Oh it's nothing', says the pony. 'I'm just a little horse!'\", \"A white horse walks into a bar, pulls up a stool, and orders a pint. The landlord pours him a tall frothy mug and say, 'You know, we have a drink named after you.' To which the white horse replies, 'What, Eric?'\", \"Two drunk men sat in a pub. One says to the other, 'Does your watch tell the time?' 'The other replies, 'No, mate. You have to look at it.'\", \"A man goes into a pub with a newt sitting on his shoulder. 'That's a nice newt', says the landlord, 'What's he called?' 'Tiny', replies the man. 'Why's that?' asks the landlord. 'Because he's my newt', says the man.\", \"Doctor: I have some bad news and some very bad news. Patient: Well, you might as well give me the bad news first. Doctor: The lab called with your test results. They said you have 24 hours to live. Patient: 24 HOURS! That's terrible!! WHAT could be WORSE? What's the very bad news? Doctor: I've been trying to reach you since yesterday.\", \"Two men are chatting in a pub one day. 'How did you get those scars on your nose?' said one. 'From glasses', said the other. 'Well why don't you try contact lenses?' asked the first. 'Because they don't hold as much beer', said the second.\", \"A man went to the doctor, 'Look doc', he said, 'I can't stop my hands from shaking.' 'Do you drink much?' asked the doctor. 'No', replied the man, 'I spill most of it.'\", \"Man goes to the doctor, 'Doctor, doctor. I keep seeing fish everywhere.' 'Have you seen an optician?' asks the doctor. 'Look I told you,' snapped the patient, 'It's fish that I see.'\", \"After a car crash one of the drivers was lying injured on the pavement. 'Don't worry', said a policeman who's first on the scene,' a Red Cross nurse is coming.' 'Oh no', moaned the victim, 'Couldn't I have a blonde, cheerful one instead?'\", \"A policeman walked over to a parked car and asked the driver if the car was licensed. 'Of course it is', said the driver. 'Great, I'll have a beer then', said the policeman.\", \"A policeman stops a woman and asks for her licence. 'Madam', he says, 'It says here that you should be wearing glasses.' 'Well', replies the woman, 'I have contacts.' 'Listen, love', says the copper, 'I don't care who you know; You're nicked!'\", \"A policeman stopped a motorist in the centre of town one evening. 'Would you mind blowing into this bag, sir?' asked the policeman. 'Why?' asked the driver. 'Because my chips are too hot', replied the policeman.\", \"Whizzing round a sharp bend on a country road a motorist ran over a large dog. A distraught farmer's wife ran over to the dead animal. 'I'm so very sorry', said the driver, 'I'll replace him, of course.' 'Well, I don't know', said the farmer's wife, 'Are you any good at catching rats?'\", \"Waiter, this coffee tastes like dirt! Yes sir, that's because it was ground this morning.\", \"Waiter, what is this stuff? That's bean salad sir. I know what it's been, but what is it now?\", 'Waiter: And how did you find your steak sir? Customer: I just flipped a chip over, and there it was!', \"A guy goes into a pet shop and asks for a wasp. The owner tells him they don't sell wasps, to which the man says, 'Well you've got one in the window.'\", \"A man goes into a fish shop and says, 'I'd like a piece of cod, please.' Fishmonger says, 'It won't be long sir.' 'Well, it had better be fat then', replies the man.\", \"Man: Doctor, I've just swallowed a pillow. Doctor: How do you feel? Man: A little down in the mouth.\", \"Two goldfish are in a tank. One turns to the other and says, 'Do you know how to drive this thing?'\", \"A tortoise goes to the police station to report being mugged by three snails. 'What happened?' says the policeman. 'I don't know', says the tortoise. 'It was all so quick.'\", \"Little girl: Grandpa, can you make a sound like a frog? Grandpa: I suppose so sweetheart. Why do you want me to make a sound like a frog?' Little girl: Because Mum said that when you croak, we're going to Disneyland.\", \"'Is your mother home?' the salesman asked a small boy sitting on the front step of a house. 'Yeah, she's home', the boy said, moving over to let him past. The salesman rang the doorbell, got no response, knocked once, then again. Still no-one came to the door. Turning to the boy, the salesman said, 'I thought you said your mother was home.' The kid replied, 'She is, but I don't live here.'\", 'Mother: Why are you home from school so early? Son: I was the only one in the class who could answer a question. Mother: Oh, really? What was the question? Son: Who threw the rubber at the headmaster?', \"A man's credit card was stolen but he decided not to report it because the thief was spending less than his wife did.\", \"A newly-wed couple had recently opened a joint bank account. 'Darling', said the man. 'The bank has returned that cheque you wrote last week.' 'Great', said the woman. 'What shall I spend it on next?'\", \"A man goes into a fish and chip shop and orders fish and chips twice. The shop owner says, 'I heard you the first time.'\", \"A tramp approached a well-dressed man. 'Ten pence for a cup of tea, Guv?' He asked. The man gave him the money and after for five minutes said, 'So where's my cup of tea then?'\", \"A neutron walks into a pub. 'I'd like a beer', he says. The landlord promptly serves him a beer. 'How much will that be?' asks the neutron. 'For you?' replies the landlord, 'No charge.'\", \"A woman goes to the doctor and says, 'Doctor, my husband limps because his left leg is an inch shorter than his right leg. What would you do in his case?' 'Probably limp, too', says the doc.\", \"Three monks are meditating in the Himalayas. One year passes in silence, and one of them says to the other, 'Pretty cold up here isn't it?' Another year passes and the second monk says, 'You know, you are quite right.' Another year passes and the third monk says, 'Hey, I'm going to leave unless you two stop jabbering!'\", \"A murderer, sitting in the electric chair, was about to be executed. 'Have you any last requests?' asked the prison guard. 'Yes', replied the murderer. 'Will you hold my hand?'\", \"A highly excited man rang up for an ambulance. 'Quickly, come quickly', he shouted, 'My wife's about to have a baby.' 'Is this her first baby?' asked the operator. 'No, you fool', came the reply, 'It's her husband.'\", \"A passer-by spots a fisherman by a river. 'Is this a good river for fish?' he asks. 'Yes', replies the fisherman, 'It must be. I can't get any of them to come out.'\", \"A man went to visit a friend and was amazed to find him playing chess with his dog. He watched the game in astonishment for a while. 'I can hardly believe my eyes!' he exclaimed. 'That's the smartest dog I've ever seen.' His friend shook his head. 'Nah, he's not that bright. I beat him three games in five.'\", \"A termite walks into a pub and says, 'Is the bar tender here?'\", \"A skeleton walks into a pub one night and sits down on a stool. The landlord asks, 'What can I get you?' The skeleton says, 'I'll have a beer, thanks' The landlord passes him a beer and asks 'Anything else?' The skeleton nods. 'Yeah...a mop...'\", \"A snake slithers into a pub and up to the bar. The landlord says, 'I'm sorry, but I can't serve you.' 'What? Why not?' asks the snake. 'Because', says the landlord, 'You can't hold your drink.'\", \"Descartes walks into a pub. 'Would you like a beer sir?' asks the landlord politely. Descartes replies, 'I think not' and ping! he vanishes.\", \"A cowboy walked into a bar, dressed entirely in paper. It wasn't long before he was arrested for rustling.\", \"A fish staggers into a bar. 'What can I get you?' asks the landlord. The fish croaks 'Water...'\", \"Two vampires walked into a bar and called for the landlord. 'I'll have a glass of blood', said one. 'I'll have a glass of plasma', said the other. 'Okay', replied the landlord, 'That'll be one blood and one blood lite.'\", 'How many existentialists does it take to change a light bulb?  Two. One to screw it in, and one to observe how the light bulb itself symbolises a single incandescent beacon of subjective reality in a netherworld of endless absurdity, reaching towards the ultimate horror of a maudlin cosmos of bleak, hostile nothingness.', \"A team of scientists were nominated for the Nobel Prize. They had used dental equipment to discover and measure the smallest particles yet known to man. They became known as 'The Graders of the Flossed Quark...'\", \"A truck carrying copies of Roget's Thesaurus overturned on the highway. The local newspaper reported that onlookers were 'stunned, overwhelmed, astonished, bewildered and dumbfounded.'\", \"'My wife is really immature. It's pathetic. Every time I take a bath, she comes in and sinks all my little boats.'\", \"'How much will it cost to have the tooth extracted?' asked the patient. '50 pounds', replied the dentist. '50 pounds for a few moments' work?!' asked the patient. 'The dentist smiled, and replied, 'Well, if you want better value for money, I can extract it very, very slowly...'\", \"A doctor thoroughly examined his patient and said, 'Look I really can't find any reason for this mysterious affliction. It's probably due to drinking.' The patient sighed and snapped, 'In that case, I'll come back when you're damn well sober!'\", 'Doctor: Tell me nurse, how is that boy doing; the one who ate all those 5p pieces? Nurse: Still no change doctor.', \"Doctor: Did you take the patient's temperature nurse? Nurse: No doctor. Is it missing?\", \"A depressed man turned to his friend in the pub and said, 'I woke up this morning and felt so bad that I tried to kill myself by taking 50 aspirin.' 'Oh man, that's really bad', said his friend, 'What happened?' The first man sighed and said, 'After the first two, I felt better.'\", \"A famous blues musician died. His tombstone bore the inscription, 'Didn't wake up this morning...'\", \"A businessman was interviewing a nervous young woman for a position in his company. He wanted to find out something about her personality, so he asked, 'If you could have a conversation with someone living or dead, who would it be?' The girl thought about the question: 'The living one', she replied.\", \"Manager to interviewee: For this job we need someone who is responsible. Interviewee to Manager: I'm your man then - in my last job, whenever anything went wrong, I was responsible.\", \"A businessman turned to a colleague and asked, 'So, how many people work at your office?' His friend shrugged and replied, 'Oh about half of them.'\", \"'How long have I been working at that office? As a matter of fact, I've been working there ever since they threatened to sack me.'\", \"In a courtroom, a mugger was on trial. The victim, asked if she recognised the defendant, said, 'Yes, that's him. I saw him clear as day. I'd remember his face anywhere.' Unable to contain himself, the defendant burst out with, 'She's lying! I was wearing a mask!'\", \"As Sid sat down to a big plate of chips and gravy down the local pub, a mate of his came over and said, 'Here Sid, me old pal. I thought you were trying to get into shape? And here you are with a high-fat meal and a pint of stout!' Sid looked up and replied, 'I am getting into shape. The shape I've chosen is a sphere.'\", 'Man in pub: How much do you charge for one single drop of whisky? Landlord: That would be free sir. Man in pub: Excellent. Drip me a glass full.', 'I once went to a Doctor Who restaurant. For starters I had Dalek bread.', \"A restaurant nearby had a sign in the window which said 'We serve breakfast at any time', so I ordered French toast in the Renaissance.\", \"Why couldn't the rabbit get a loan?  Because he had burrowed too much already!\", \"I phoned up the builder's yard yesterday. I said, 'Can I have a skip outside my house?'. The builder said, 'Sure. Do what you want. It's your house.'\", \"What's the diference between a sock and a camera? A sock takes five toes and a camera takes four toes!\", \"Woman on phone: I'd like to complain about these incontinence pants I bought from you! Shopkeeper: Certainly madam, where are you ringing from? Woman on phone: From the waist down!\", \"Two Oranges in a pub, one says to the other 'Your round.'.\", \"Guy : 'Doc, I've got a cricket ball stuck up my backside.' Doc : 'How's that?' Guy : 'Don't you start...'\", \"Two cows standing in a field. One turns to the other and says 'Moo!' The other one says 'Damn, I was just about to say that!'.\", \"A vampire bat arrives back at the roost with his face full of blood. All the bats get excited and ask where he got it from. 'Follow me', he says and off they fly over hills, over rivers and into a dark forest. 'See that tree over there', he says.  'WELL I DIDN'T!!'.\", \"A man goes into a bar and orders a pint. After a few minutes he hears a voice that says, 'Nice shoes'. He looks around but the whole bar is empty apart from the barman at the other end of the bar. A few minutes later he hears the voice again. This time it says, 'I like your shirt'. He beckons the barman over and tells him what's been happening to which the barman replies, 'Ah, that would be the nuts sir. They're complimentary'!\", \"A man was siting in a restaurant waiting for his meal when a big king prawn comes flying across the room and hits him on the back of the head. He turns around and the waiter said, 'That's just for starters'.\", 'Doctor! I have a serious problem, I can never remember what i just said. When did you first notice this problem? What problem?', \"Now, most dentist's chairs go up and down, don't they? The one I was in went back and forwards. I thought, 'This is unusual'. Then the dentist said to me, 'Mitsuku, get out of the filing cabinet'.\", \"I was reading this book, 'The History of Glue'. I couldn't put it down.\", \"The other day someone left a piece of plastacine in my bedroom. I didn't know what to make of it.\", 'When I was at school people used to throw gold bars at me. I was the victim of bullion.', \"I was playing the piano in a bar and this elephant walked in and started crying his eyes out. I said 'Do you recognise the tune?' He said 'No, I recognise the ivory.'\", \"I went in to a pet shop. I said, 'Can I buy a goldfish?' The guy said, 'Do you want an aquarium?' I said, 'I don't care what star sign it is.'\", 'My mate Sid was a victim of I.D. theft. Now we just call him S.', \"David Hasselhoff walks into a bar and says to the barman, 'I want you to call me David Hoff'.  The barman replies 'Sure thing Dave... no hassle'\"], 'context': ['jokes']}, {'tag': 'haha', 'patterns': ['haha', 'lol', 'rofl', 'lmao', 'thats funny'], 'responses': [\"Glad I could make you're laughing !\", \"I'm happy that you're happy! :)\"]}, {'tag': 'insult', 'patterns': ['you are dumb', 'shut up', 'idiot', 'fuck off', 'fuck', 'Shut up', 'Get lost', 'twat', 'fuck you'], 'responses': ['Well that hurts :(', 'watch your mouth', 'Please do not swear', 'How rude', 'That is not very nice', 'Leaf dissaproves']}, {'tag': 'activity', 'patterns': ['what are you doing', 'what are you upto'], 'responses': ['Talking to you, of course!', 'Processing what to reply... oh yea I can say that']}, {'tag': 'exclaim', 'patterns': ['Awesome', 'Great', 'I know', 'ok', 'yeah'], 'responses': ['Yeah!', 'Cool']}, {'tag': 'appreciate', 'patterns': ['You are awesome', 'you are the best', 'you are great', 'you are good', 'You are very clever', 'You are smart', 'You are very intelligent', 'You are a genious', 'Clever dude', 'Genious', 'Clever', 'That was smart'], 'responses': ['Thank you, I was trained that way', 'I was trained well', 'Thanks, I was trained that way', 'Thank you!']}, {'tag': 'nicetty', 'patterns': ['it was nice talking to you', 'good talk'], 'responses': ['It was nice talking to you as well! Come back soon!', \"I'm glad you enjoyed talking with me\", \"Can't wait to talk with you next time\"]}, {'tag': 'no', 'patterns': ['no', 'nope'], 'responses': ['ok', 'oh ok', \"I'm sorry\", 'aww sorry : (']}, {'tag': 'greetreply', 'patterns': ['i am good', \"I'm good\", 'i am fine', \"I'm fine\", 'i am doing good', \"I'm doing good\", 'i am doing fine', \"I'm doing fine\", 'good', 'I feel good', 'I feel very good'], 'responses': ['Good to know!', \"I'm glad you're doing good\", \"That's awesome!\", 'Awesome!']}, {'tag': 'riddle', 'patterns': ['Ask me a riddle', 'Ask me a question', 'Riddle'], 'responses': ['What two things can you never eat for breakfast?.....Lunch and Dinner!', 'What word is spelled incorrectly in every single dictionary?.....Incorrectly', ' How can a girl go 25 days without sleep?.....She sleeps and night!', \"How do you make the number one disappear?.....Add the letter G and it’s 'gone'!\", \" What will you actually find at the end of every rainbow?.....The letter 'w'\", 'What can be caught but never thrown?.....A cold!', 'What has a thumb and four fingers but is not actually alive?.....Your Gloves!', ' What 5-letter word becomes shorter when you add two letters to it?.....Short', \"Why can't a bike stand on it's own?.....It is two-tired.\"], 'context': ['riddles']}, {'tag': 'age', 'patterns': ['How old are you?', 'When were you made?', 'What is your age?', 'When is your birthday?'], 'responses': [\"I was made in 2022, if that's what you are asking!\", 'My birthday was on 29th of November']}]}\n"
          ]
        }
      ]
    },
    {
      "cell_type": "code",
      "source": [
        "words = []\n",
        "labels = []\n",
        "docs_x = []\n",
        "docs_y = []"
      ],
      "metadata": {
        "id": "SOwd7ow4XpJv"
      },
      "execution_count": null,
      "outputs": []
    },
    {
      "cell_type": "code",
      "source": [
        "import nltk\n",
        "nltk.download('punkt')"
      ],
      "metadata": {
        "colab": {
          "base_uri": "https://localhost:8080/"
        },
        "id": "Dvlk1_EiYA8f",
        "outputId": "88173319-159e-481a-9a70-bc58c5e90347"
      },
      "execution_count": null,
      "outputs": [
        {
          "output_type": "stream",
          "name": "stderr",
          "text": [
            "[nltk_data] Downloading package punkt to /root/nltk_data...\n",
            "[nltk_data]   Package punkt is already up-to-date!\n"
          ]
        },
        {
          "output_type": "execute_result",
          "data": {
            "text/plain": [
              "True"
            ]
          },
          "metadata": {},
          "execution_count": 7
        }
      ]
    },
    {
      "cell_type": "code",
      "source": [
        "for intent in data['intents']:\n",
        "    for pattern in intent['patterns']:\n",
        "        wrds = nltk.word_tokenize(pattern)\n",
        "        words.extend(wrds)\n",
        "        docs_x.append(wrds)\n",
        "        docs_y.append(intent[\"tag\"])\n",
        "        \n",
        "    if intent['tag'] not in labels:\n",
        "        labels.append(intent['tag'])"
      ],
      "metadata": {
        "id": "Gxm8aYS6Xrgt"
      },
      "execution_count": null,
      "outputs": []
    },
    {
      "cell_type": "code",
      "source": [
        "words = [stemmer.stem(w.lower()) for w in words if w != \"?\"]\n",
        "words = sorted(list(set(words)))\n",
        "\n",
        "labels = sorted(labels)"
      ],
      "metadata": {
        "id": "Hdip8LC_YMW0"
      },
      "execution_count": null,
      "outputs": []
    },
    {
      "cell_type": "code",
      "source": [
        "training = []\n",
        "output = []\n",
        "\n",
        "out_empty = [0 for _ in range(len(labels))]\n",
        "\n",
        "for x, doc in enumerate(docs_x):\n",
        "    bag = []\n",
        "\n",
        "    wrds = [stemmer.stem(w.lower()) for w in doc]\n",
        "\n",
        "    for w in words:\n",
        "        if w in wrds:\n",
        "            bag.append(1)\n",
        "        else:\n",
        "            bag.append(0)\n",
        "\n",
        "    output_row = out_empty[:]\n",
        "    output_row[labels.index(docs_y[x])] = 1\n",
        "\n",
        "    training.append(bag)\n",
        "    output.append(output_row)"
      ],
      "metadata": {
        "id": "V4ZbpTb9YRNN"
      },
      "execution_count": null,
      "outputs": []
    },
    {
      "cell_type": "code",
      "source": [
        "training = numpy.array(training)\n",
        "output = numpy.array(output)"
      ],
      "metadata": {
        "id": "SnfneweVYUq5"
      },
      "execution_count": null,
      "outputs": []
    },
    {
      "cell_type": "code",
      "source": [
        "# print(training)\n",
        "# print(output)"
      ],
      "metadata": {
        "id": "kv0yBcfnYWk1"
      },
      "execution_count": null,
      "outputs": []
    },
    {
      "cell_type": "code",
      "source": [
        "from tensorflow.python.framework import ops\n",
        "ops.reset_default_graph()\n",
        "\n",
        "net = tflearn.input_data(shape=[None, len(training[0])])\n",
        "net = tflearn.fully_connected(net, 8)\n",
        "net = tflearn.fully_connected(net, 8)\n",
        "net = tflearn.fully_connected(net, len(output[0]), activation=\"softmax\")\n",
        "net = tflearn.regression(net)\n",
        "\n",
        "model = tflearn.DNN(net)"
      ],
      "metadata": {
        "id": "I5ek7e2yYjUq",
        "colab": {
          "base_uri": "https://localhost:8080/"
        },
        "outputId": "e06f5d47-6bed-4911-f87d-320737d5b432"
      },
      "execution_count": null,
      "outputs": [
        {
          "output_type": "stream",
          "name": "stderr",
          "text": [
            "WARNING:tensorflow:From /usr/local/lib/python3.8/dist-packages/tflearn/initializations.py:164: calling TruncatedNormal.__init__ (from tensorflow.python.ops.init_ops) with dtype is deprecated and will be removed in a future version.\n",
            "Instructions for updating:\n",
            "Call initializer instance with the dtype argument instead of passing it to the constructor\n"
          ]
        }
      ]
    },
    {
      "cell_type": "code",
      "source": [
        "model.fit(training, output, n_epoch=1000, batch_size=8, show_metric=True)\n",
        "model.save(\"model.tflearn\")"
      ],
      "metadata": {
        "colab": {
          "base_uri": "https://localhost:8080/"
        },
        "id": "TJ-a1jUzZb1T",
        "outputId": "873536c9-5ca9-4c6a-9eee-b38741551573"
      },
      "execution_count": null,
      "outputs": [
        {
          "output_type": "stream",
          "name": "stdout",
          "text": [
            "Training Step: 17999  | total loss: \u001b[1m\u001b[32m0.31830\u001b[0m\u001b[0m | time: 0.081s\n",
            "| Adam | epoch: 1000 | loss: 0.31830 - acc: 0.9861 -- iter: 136/141\n",
            "Training Step: 18000  | total loss: \u001b[1m\u001b[32m0.28697\u001b[0m\u001b[0m | time: 0.088s\n",
            "| Adam | epoch: 1000 | loss: 0.28697 - acc: 0.9875 -- iter: 141/141\n",
            "--\n"
          ]
        }
      ]
    },
    {
      "cell_type": "code",
      "source": [
        "def bag_of_words(s, words):\n",
        "    bag = [0 for _ in range(len(words))]\n",
        "\n",
        "    s_words = nltk.word_tokenize(s)\n",
        "    s_words = [stemmer.stem(word.lower()) for word in s_words]\n",
        "\n",
        "    for se in s_words:\n",
        "        for i, w in enumerate(words):\n",
        "            if w == se:\n",
        "                bag[i] = 1\n",
        "            \n",
        "    return numpy.array(bag)\n",
        "\n",
        "\n",
        "def chat():\n",
        "    print(\"Start talking with the bot (type quit to stop)!\")\n",
        "    while True:\n",
        "        inp = input(\"You: \")\n",
        "        if inp.lower() == \"quit\":\n",
        "            break\n",
        "\n",
        "        results = model.predict([bag_of_words(inp, words)])\n",
        "        results_index = numpy.argmax(results)\n",
        "        tag = labels[results_index]\n",
        "\n",
        "        for tg in data[\"intents\"]:\n",
        "            if tg['tag'] == tag:\n",
        "                responses = tg['responses']\n",
        "\n",
        "        print(random.choice(responses))\n",
        "\n",
        "chat()"
      ],
      "metadata": {
        "id": "B5g-UFNUaH7Q",
        "colab": {
          "base_uri": "https://localhost:8080/"
        },
        "outputId": "0ce40337-bb09-4306-ee7e-96287df915bc"
      },
      "execution_count": null,
      "outputs": [
        {
          "name": "stdout",
          "output_type": "stream",
          "text": [
            "Start talking with the bot (type quit to stop)!\n",
            "You: hi\n",
            "Hi there, how can I help?\n",
            "You: what do you do?\n",
            "I am a general purpose chatbot. I can chat with you. Try asking me for jokes or riddles!\n",
            "You: tell me a joke\n",
            "What did the traffic light say to the car? \"Don't look now, I'm changing.\"\n",
            "You: make me happy\n",
            "I saw this bloke chatting up a cheetah; I thought, 'He's trying to pull a fast one'.  \n",
            "You: how people call you\n",
            "Well I wouldn't be a clever AI bot if I did not would I?\n",
            "You: how old you are?\n",
            "I was made in 2022, if that's what you are asking!\n",
            "You: quit\n"
          ]
        }
      ]
    }
  ]
}